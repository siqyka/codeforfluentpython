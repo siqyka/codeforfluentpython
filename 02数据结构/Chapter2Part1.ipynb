{
 "cells": [
  {
   "cell_type": "code",
   "execution_count": 2,
   "metadata": {},
   "outputs": [
    {
     "name": "stdout",
     "output_type": "stream",
     "text": [
      "[36, 37, 94, 38]\n",
      "[36, 37, 94, 38]\n"
     ]
    }
   ],
   "source": [
    "symbols='$%^&'\n",
    "codes1=[]\n",
    "for symbol in symbols:\n",
    "    codes1.append(ord(symbol))\n",
    "print(codes1)\n",
    "\n",
    "\n",
    "codes2=[ord(symbol) for symbol in symbols]\n",
    "print(codes2)"
   ]
  }
 ],
 "metadata": {
  "interpreter": {
   "hash": "3b3361eea9ad770e1b9ddf2a02c07134d9907bc8d69d7867e0b684ae753730c4"
  },
  "kernelspec": {
   "display_name": "Python 3.9.6 64-bit",
   "language": "python",
   "name": "python3"
  },
  "language_info": {
   "codemirror_mode": {
    "name": "ipython",
    "version": 3
   },
   "file_extension": ".py",
   "mimetype": "text/x-python",
   "name": "python",
   "nbconvert_exporter": "python",
   "pygments_lexer": "ipython3",
   "version": "3.9.6"
  },
  "orig_nbformat": 4
 },
 "nbformat": 4,
 "nbformat_minor": 2
}
