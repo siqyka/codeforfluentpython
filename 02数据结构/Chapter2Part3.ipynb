{
 "cells": [
  {
   "cell_type": "code",
   "execution_count": 23,
   "metadata": {},
   "outputs": [
    {
     "name": "stdout",
     "output_type": "stream",
     "text": [
      "  $17.50     Pimoroni PiBrella                 \n",
      "   $4.95     6mm Tactile Switch x20            \n",
      "  $28.00     Panavise Jr. - PV-201             \n",
      "  $34.95     PiTFT Mini Kit 320x240            \n",
      " \n"
     ]
    }
   ],
   "source": [
    "invoice = \"\"\"\n",
    "0.....6................................40........52...55........\n",
    "1909  Pimoroni PiBrella                   $17.50     3    $52.50\n",
    "1489  6mm Tactile Switch x20               $4.95     2     $9.90\n",
    "1510  Panavise Jr. - PV-201               $28.00     1    $28.00\n",
    "1601  PiTFT Mini Kit 320x240              $34.95     1    $34.95\n",
    "\"\"\"\n",
    "SKU = slice(0, 6)\n",
    "DESCRIPTION = slice(6, 40)\n",
    "UNIT_PRICE = slice(40, 52)\n",
    "QUANTITY = slice(52, 55)\n",
    "ITEM_TOTAL = slice(55, None)\n",
    "line_items = invoice.split('\\n')[2:]\n",
    "\n",
    "for item in line_items:\n",
    "    print(item[UNIT_PRICE], item[DESCRIPTION])\n"
   ]
  },
  {
   "cell_type": "code",
   "execution_count": 5,
   "metadata": {},
   "outputs": [
    {
     "name": "stdout",
     "output_type": "stream",
     "text": [
      "[0, 1, 2, 3, 4, 5, 6, 7, 8, 9]\n",
      "[0, 1, 20, 30, 5, 6, 7, 8, 9]\n",
      "[0, 1, 20, 30, 5, 8, 9]\n",
      "[0, 1, 20, 11, 20, 30, 5, 8, 9]\n",
      "[0, 1, 100, 30, 5, 8, 9]\n"
     ]
    }
   ],
   "source": [
    "l=list(range(10))\n",
    "print(l)\n",
    "l[2:5]=[20,30]\n",
    "print(l)\n",
    "del l[5:7]\n",
    "print(l)\n",
    "l[3:2]=[11,20]\n",
    "print(l)\n",
    "# l[2:5]=100  #error\n",
    "l[2:5]=[100]\n",
    "print(l)"
   ]
  },
  {
   "cell_type": "code",
   "execution_count": 8,
   "metadata": {},
   "outputs": [
    {
     "name": "stdout",
     "output_type": "stream",
     "text": [
      "[1, 2, 3, 1, 2, 3, 1, 2, 3, 1, 2, 3, 1, 2, 3]\n",
      "abcdabcdabcdabcdabcd\n"
     ]
    }
   ],
   "source": [
    "l = [1, 2, 3]\n",
    "print(l * 5)\n",
    "print(5 * 'abcd')\n"
   ]
  },
  {
   "cell_type": "code",
   "execution_count": 12,
   "metadata": {},
   "outputs": [
    {
     "name": "stdout",
     "output_type": "stream",
     "text": [
      "[['_', '_', '_'], ['_', '_', '_'], ['_', '_', '_']]\n",
      "[['_', '_', '_'], ['_', '_', 'X'], ['_', '_', '_']]\n",
      "[['_', '_', '_'], ['_', '_', '_'], ['_', '_', '_']]\n",
      "[['_', '_', 'O'], ['_', '_', 'O'], ['_', '_', 'O']]\n"
     ]
    }
   ],
   "source": [
    "board = [['_'] * 3 for i in range(3)] \n",
    "print(board)\n",
    "board[1][2] = 'X' \n",
    "print(board)\n",
    "\n",
    "# error\n",
    "weird_board = [['_'] * 3] * 3 \n",
    "print(weird_board)\n",
    "weird_board[1][2] = 'O' \n",
    "print(weird_board)"
   ]
  },
  {
   "cell_type": "code",
   "execution_count": 15,
   "metadata": {},
   "outputs": [
    {
     "name": "stdout",
     "output_type": "stream",
     "text": [
      "[['_', 'x', '_'], ['_', 'x', '_'], ['_', 'x', '_']]\n",
      "[['_', '_', '_'], ['_', '_', '_'], ['_', '_', '_']]\n",
      "[['_', '_', '_'], ['_', '_', '_'], ['X', '_', '_']]\n"
     ]
    }
   ],
   "source": [
    "board = []\n",
    "for i in range(3):\n",
    "    row=['_'] * 3 \n",
    "    board.append(row)\n",
    "print(board)\n",
    "board[2][0] = 'X'\n",
    "print(board)"
   ]
  }
 ],
 "metadata": {
  "interpreter": {
   "hash": "2465f33d6e3a635de7a75c7d49216279c9a4b793e4e7e218304fb87e3283cc16"
  },
  "kernelspec": {
   "display_name": "Python 3.7.9 64-bit",
   "language": "python",
   "name": "python3"
  },
  "language_info": {
   "codemirror_mode": {
    "name": "ipython",
    "version": 3
   },
   "file_extension": ".py",
   "mimetype": "text/x-python",
   "name": "python",
   "nbconvert_exporter": "python",
   "pygments_lexer": "ipython3",
   "version": "3.7.9"
  },
  "orig_nbformat": 4
 },
 "nbformat": 4,
 "nbformat_minor": 2
}
