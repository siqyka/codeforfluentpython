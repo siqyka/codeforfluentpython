{
 "cells": [
  {
   "cell_type": "code",
   "execution_count": 2,
   "metadata": {},
   "outputs": [
    {
     "name": "stdout",
     "output_type": "stream",
     "text": [
      "BRA/CE342567\n",
      "ESP/XDA205856\n",
      "USA/311958550\n",
      "USA\n",
      "BRA\n",
      "ESP\n"
     ]
    }
   ],
   "source": [
    "lax_Coordinates = (33.9425, -118.408056)\n",
    "city, year, pop, chg, area = ('Tokyo', 2003, 32450, 0.66, 8014)\n",
    "traveler_ids = [('USA', '311958550'), ('BRA', 'CE342567'),\n",
    "                ('ESP', 'XDA205856')]\n",
    "for passport in sorted(traveler_ids):\n",
    "    print('%s/%s' % passport)\n",
    "    \n",
    "for country, _ in traveler_ids:\n",
    "    print(country)\n"
   ]
  },
  {
   "cell_type": "code",
   "execution_count": 10,
   "metadata": {},
   "outputs": [
    {
     "name": "stdout",
     "output_type": "stream",
     "text": [
      "33.9425 -118.408056\n",
      "0 1 [2, 3, 4]\n",
      "0 1 []\n",
      "0 [1, 2] 3 4\n"
     ]
    }
   ],
   "source": [
    "lax_Coordinates = (33.9425, -118.408056)\n",
    "latitude,longitude=lax_Coordinates\n",
    "print(latitude,longitude)\n",
    "\n",
    "a,b,*rest=range(5)\n",
    "print(a,b,rest)\n",
    "a, b, *rest = range(2)\n",
    "print(a,b,rest)\n",
    "a, *body, c, d = range(5)\n",
    "print(a, body, c, d )"
   ]
  },
  {
   "cell_type": "code",
   "execution_count": 11,
   "metadata": {},
   "outputs": [
    {
     "name": "stdout",
     "output_type": "stream",
     "text": [
      "                |   lat.    |   long.  \n",
      "Mexico City     |   19.4333 |  -99.1333\n",
      "New York-Newark |   40.8086 |  -74.0204\n",
      "Sao Paulo       |  -23.5478 |  -46.6358\n"
     ]
    }
   ],
   "source": [
    "metro_areas = [\n",
    "('Tokyo','JP',36.933,(35.689722,139.691667)), \n",
    "('Delhi NCR', 'IN', 21.935, (28.613889, 77.208889)),\n",
    "('Mexico City', 'MX', 20.142, (19.433333, -99.133333)),\n",
    "('New York-Newark', 'US', 20.104, (40.808611, -74.020386)),\n",
    "('Sao Paulo', 'BR', 19.649, (-23.547778, -46.635833)),\n",
    "]\n",
    "print('{:15} | {:^9} | {:^9}'.format('', 'lat.', 'long.'))\n",
    "fmt = '{:15} | {:9.4f} | {:9.4f}'\n",
    "for name, cc, pop, (latitude, longitude) in metro_areas: \n",
    "    if longitude <= 0: \n",
    "        print(fmt.format(name, latitude, longitude))"
   ]
  },
  {
   "cell_type": "code",
   "execution_count": 5,
   "metadata": {},
   "outputs": [
    {
     "name": "stdout",
     "output_type": "stream",
     "text": [
      "City(name='Tokyo', country='JP', population=36.933, coordinates=(35.689722, 139.691667))\n",
      "36.933\n",
      "(35.689722, 139.691667)\n",
      "JP\n",
      "('name', 'country', 'population', 'coordinates')\n",
      "{'name': 'Delhi NCR', 'country': 'IN', 'population': 21.935, 'coordinates': LatLong(lat=28.613889, long=77.208889)}\n",
      "name: Delhi NCR\n",
      "country: IN\n",
      "population: 21.935\n",
      "coordinates: LatLong(lat=28.613889, long=77.208889)\n"
     ]
    }
   ],
   "source": [
    "from collections import namedtuple\n",
    "City=namedtuple('City','name country population coordinates')\n",
    "tokyo=City('Tokyo','JP',36.933,(35.689722,139.691667))\n",
    "print(tokyo)\n",
    "print(tokyo.population)\n",
    "print(tokyo.coordinates)\n",
    "print(tokyo[1])\n",
    "print(City._fields)\n",
    "LatLong=namedtuple('LatLong','lat long')\n",
    "delhi_Data=('Delhi NCR','IN',21.935,LatLong(28.613889,77.208889))\n",
    "delhi=City._make(delhi_Data)\n",
    "print(delhi._asdict())\n",
    "for key,value in delhi._asdict().items():\n",
    "    print(key+':',value)"
   ]
  }
 ],
 "metadata": {
  "interpreter": {
   "hash": "3b3361eea9ad770e1b9ddf2a02c07134d9907bc8d69d7867e0b684ae753730c4"
  },
  "kernelspec": {
   "display_name": "Python 3.9.6 64-bit",
   "language": "python",
   "name": "python3"
  },
  "language_info": {
   "codemirror_mode": {
    "name": "ipython",
    "version": 3
   },
   "file_extension": ".py",
   "mimetype": "text/x-python",
   "name": "python",
   "nbconvert_exporter": "python",
   "pygments_lexer": "ipython3",
   "version": "3.9.6"
  },
  "orig_nbformat": 4
 },
 "nbformat": 4,
 "nbformat_minor": 2
}
